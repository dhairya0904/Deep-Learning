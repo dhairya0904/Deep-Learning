{
 "cells": [
  {
   "cell_type": "code",
   "execution_count": 1,
   "metadata": {
    "collapsed": false
   },
   "outputs": [
    {
     "name": "stderr",
     "output_type": "stream",
     "text": [
      "Using TensorFlow backend.\n"
     ]
    }
   ],
   "source": [
    "%matplotlib inline\n",
    "\n",
    "import numpy as np\n",
    "from PIL import Image\n",
    "from keras.applications import VGG16\n",
    "from keras.applications.vgg16 import preprocess_input, decode_predictions\n",
    "import os"
   ]
  },
  {
   "cell_type": "code",
   "execution_count": 2,
   "metadata": {
    "collapsed": false
   },
   "outputs": [],
   "source": [
    "# importing pre trained model\n",
    "model = VGG16(weights='imagenet',include_top=True)"
   ]
  },
  {
   "cell_type": "code",
   "execution_count": 3,
   "metadata": {
    "collapsed": true
   },
   "outputs": [
    {
     "data": {
      "text/plain": [
       "{'block1_conv1': <tf.Tensor 'block1_conv1/Relu:0' shape=(?, 224, 224, 64) dtype=float32>,\n",
       " 'block1_conv2': <tf.Tensor 'block1_conv2/Relu:0' shape=(?, 224, 224, 64) dtype=float32>,\n",
       " 'block1_pool': <tf.Tensor 'block1_pool/MaxPool:0' shape=(?, 112, 112, 64) dtype=float32>,\n",
       " 'block2_conv1': <tf.Tensor 'block2_conv1/Relu:0' shape=(?, 112, 112, 128) dtype=float32>,\n",
       " 'block2_conv2': <tf.Tensor 'block2_conv2/Relu:0' shape=(?, 112, 112, 128) dtype=float32>,\n",
       " 'block2_pool': <tf.Tensor 'block2_pool/MaxPool:0' shape=(?, 56, 56, 128) dtype=float32>,\n",
       " 'block3_conv1': <tf.Tensor 'block3_conv1/Relu:0' shape=(?, 56, 56, 256) dtype=float32>,\n",
       " 'block3_conv2': <tf.Tensor 'block3_conv2/Relu:0' shape=(?, 56, 56, 256) dtype=float32>,\n",
       " 'block3_conv3': <tf.Tensor 'block3_conv3/Relu:0' shape=(?, 56, 56, 256) dtype=float32>,\n",
       " 'block3_pool': <tf.Tensor 'block3_pool/MaxPool:0' shape=(?, 28, 28, 256) dtype=float32>,\n",
       " 'block4_conv1': <tf.Tensor 'block4_conv1/Relu:0' shape=(?, 28, 28, 512) dtype=float32>,\n",
       " 'block4_conv2': <tf.Tensor 'block4_conv2/Relu:0' shape=(?, 28, 28, 512) dtype=float32>,\n",
       " 'block4_conv3': <tf.Tensor 'block4_conv3/Relu:0' shape=(?, 28, 28, 512) dtype=float32>,\n",
       " 'block4_pool': <tf.Tensor 'block4_pool/MaxPool:0' shape=(?, 14, 14, 512) dtype=float32>,\n",
       " 'block5_conv1': <tf.Tensor 'block5_conv1/Relu:0' shape=(?, 14, 14, 512) dtype=float32>,\n",
       " 'block5_conv2': <tf.Tensor 'block5_conv2/Relu:0' shape=(?, 14, 14, 512) dtype=float32>,\n",
       " 'block5_conv3': <tf.Tensor 'block5_conv3/Relu:0' shape=(?, 14, 14, 512) dtype=float32>,\n",
       " 'block5_pool': <tf.Tensor 'block5_pool/MaxPool:0' shape=(?, 7, 7, 512) dtype=float32>,\n",
       " 'fc1': <tf.Tensor 'fc1/Relu:0' shape=(?, 4096) dtype=float32>,\n",
       " 'fc2': <tf.Tensor 'fc2/Relu:0' shape=(?, 4096) dtype=float32>,\n",
       " 'flatten': <tf.Tensor 'flatten/Reshape:0' shape=(?, ?) dtype=float32>,\n",
       " 'input_1': <tf.Tensor 'input_1:0' shape=(?, 224, 224, 3) dtype=float32>,\n",
       " 'predictions': <tf.Tensor 'predictions/Softmax:0' shape=(?, 1000) dtype=float32>}"
      ]
     },
     "execution_count": 3,
     "metadata": {},
     "output_type": "execute_result"
    }
   ],
   "source": [
    "#print the layers of vgg16 model\n",
    "\n",
    "layers = dict( [ (layer.name , layer.output) for layer in model.layers] )\n",
    "layers"
   ]
  },
  {
   "cell_type": "code",
   "execution_count": 4,
   "metadata": {
    "collapsed": false
   },
   "outputs": [
    {
     "data": {
      "text/plain": [
       "138357544"
      ]
     },
     "execution_count": 4,
     "metadata": {},
     "output_type": "execute_result"
    }
   ],
   "source": [
    "#number of paramters or weights that model has estimated\n",
    "\n",
    "model.count_params()"
   ]
  },
  {
   "cell_type": "code",
   "execution_count": 60,
   "metadata": {
    "collapsed": false
   },
   "outputs": [],
   "source": [
    "#preprocessing the images to make them fit vgg16 model\n",
    "\n",
    "def preprocess_image(images):\n",
    "    res = [Image.open(image) for image in images]\n",
    "    res = [image.resize((224,224)) for image in res]\n",
    "    \n",
    "    res = [np.asarray(image, dtype='float32') for image in res]\n",
    "    res = [np.expand_dims(image, axis=0) for image in res]\n",
    "    res = [preprocess_input(image) for image in res]\n",
    "    res = np.concatenate(res)\n",
    "    return res"
   ]
  },
  {
   "cell_type": "code",
   "execution_count": 61,
   "metadata": {
    "collapsed": false
   },
   "outputs": [
    {
     "name": "stdout",
     "output_type": "stream",
     "text": [
      "(7, 224, 224, 3)\n"
     ]
    }
   ],
   "source": [
    "image_directory = \".\"\n",
    "path = [i for i in os.listdir(image_directory) if i.endswith((\"jpeg\",\"jpg\"))]\n",
    "\n",
    "x = preprocess_image(path)\n",
    "print x.shape"
   ]
  },
  {
   "cell_type": "code",
   "execution_count": 76,
   "metadata": {
    "collapsed": false
   },
   "outputs": [
    {
     "name": "stdout",
     "output_type": "stream",
     "text": [
      "Prediction is :\n",
      "trump.jpg \t\n",
      "[(u'n04350905', u'suit', 0.40412292), (u'n04591157', u'Windsor_tie', 0.33052385)] \n",
      "\n",
      "blue-moon-lake.jpg \t\n",
      "[(u'n01910747', u'jellyfish', 0.36579242), (u'n03782006', u'monitor', 0.10847487)] \n",
      "\n",
      "monket.jpg \t\n",
      "[(u'n02481823', u'chimpanzee', 0.93933111), (u'n02480855', u'gorilla', 0.019278435)] \n",
      "\n",
      "dog.jpeg \t\n",
      "[(u'n02104029', u'kuvasz', 0.28866687), (u'n02093428', u'American_Staffordshire_terrier', 0.098703161)] \n",
      "\n",
      "dog.jpg \t\n",
      "[(u'n02099601', u'golden_retriever', 0.93780869), (u'n02088094', u'Afghan_hound', 0.051021505)] \n",
      "\n",
      "winter-wolf.jpg \t\n",
      "[(u'n09193705', u'alp', 0.9270854), (u'n09472597', u'volcano', 0.0068684677)] \n",
      "\n",
      "cat.jpeg \t\n",
      "[(u'n02124075', u'Egyptian_cat', 0.7726028), (u'n02123045', u'tabby', 0.063030675)] \n",
      "\n"
     ]
    }
   ],
   "source": [
    "pred = model.predict(x)\n",
    "print \"Prediction is :\"\n",
    "labels_predict = [i for i in decode_predictions(pred,top=2)]\n",
    "for actual,predicted in zip(path, labels_predict):\n",
    "    print actual,\"\\t\"\n",
    "    print predicted,\"\\n\""
   ]
  }
 ],
 "metadata": {
  "kernelspec": {
   "display_name": "Python 2",
   "language": "python",
   "name": "python2"
  },
  "language_info": {
   "codemirror_mode": {
    "name": "ipython",
    "version": 2
   },
   "file_extension": ".py",
   "mimetype": "text/x-python",
   "name": "python",
   "nbconvert_exporter": "python",
   "pygments_lexer": "ipython2",
   "version": "2.7.13"
  }
 },
 "nbformat": 4,
 "nbformat_minor": 2
}
